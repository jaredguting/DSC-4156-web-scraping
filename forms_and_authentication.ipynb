{
 "cells": [
  {
   "cell_type": "markdown",
   "metadata": {},
   "source": [
    "### Webscraping Forms and Authentication\n"
   ]
  },
  {
   "cell_type": "markdown",
   "metadata": {},
   "source": [
    "#### Part 1: Submitting Search Form Using Code"
   ]
  },
  {
   "cell_type": "code",
   "execution_count": 1,
   "metadata": {},
   "outputs": [],
   "source": [
    "import requests"
   ]
  },
  {
   "cell_type": "code",
   "execution_count": 2,
   "metadata": {},
   "outputs": [],
   "source": [
    "# Defining the URL for the form's search action\n",
    "form_url = 'https://bulbapedia.bulbagarden.net/w/index.php'"
   ]
  },
  {
   "cell_type": "code",
   "execution_count": 3,
   "metadata": {},
   "outputs": [],
   "source": [
    "# Defining the query to search\n",
    "search_query = 'Pikachu'\n",
    "\n",
    "# Preparing the form data\n",
    "form_data = {\n",
    "    'search': search_query,\n",
    "    'title': 'Special:Search',\n",
    "    'go': 'Go'\n",
    "}"
   ]
  },
  {
   "cell_type": "code",
   "execution_count": 5,
   "metadata": {},
   "outputs": [
    {
     "name": "stdout",
     "output_type": "stream",
     "text": [
      "Search completed successfully!\n"
     ]
    }
   ],
   "source": [
    "# Send the GET request to submit the form\n",
    "response = requests.get(form_url, params=form_data)\n",
    "\n",
    "# Check if the request was successful\n",
    "if response.status_code == 200:\n",
    "    print(\"Search completed successfully!\")\n",
    "    # You can print the response or parse it further\n",
    "    # print(response.text)  # This will print the entire HTML content of the response\n",
    "else:\n",
    "    print(f\"Failed to retrieve search results. Status code: {response.status_code}\")"
   ]
  },
  {
   "cell_type": "markdown",
   "metadata": {},
   "source": [
    "#### Part 2: Handling Login Pages and Sessions"
   ]
  },
  {
   "cell_type": "code",
   "execution_count": 33,
   "metadata": {},
   "outputs": [],
   "source": [
    "from bs4 import BeautifulSoup"
   ]
  },
  {
   "cell_type": "code",
   "execution_count": null,
   "metadata": {},
   "outputs": [],
   "source": [
    "# Start a session\n",
    "session = requests.Session()\n",
    "\n",
    "# Get the login page to extract hidden fields\n",
    "login_page_url = 'https://bulbapedia.bulbagarden.net/w/index.php?title=Special:UserLogin&returnto=MainPage'\n",
    "login_page = session.get(login_page_url)"
   ]
  },
  {
   "cell_type": "code",
   "execution_count": null,
   "metadata": {},
   "outputs": [],
   "source": [
    "# Parse the login page\n",
    "soup = BeautifulSoup(login_page.content, 'html.parser')\n",
    "\n",
    "# Extract any hidden input fields, including wpEditToken, authAction, and force\n",
    "hidden_inputs = soup.find_all(\"input\", type=\"hidden\")\n",
    "form_data = {input_tag.get(\"name\"): input_tag.get(\"value\", \"\") for input_tag in hidden_inputs}"
   ]
  },
  {
   "cell_type": "code",
   "execution_count": null,
   "metadata": {},
   "outputs": [],
   "source": [
    "# Add username and password to form data\n",
    "form_data['wpName1'] = 'placeholder'  # Replace with actual username\n",
    "form_data['wpPassword1'] = 'placeholder'  # Replace with actual password"
   ]
  },
  {
   "cell_type": "code",
   "execution_count": null,
   "metadata": {},
   "outputs": [],
   "source": [
    "# Send the login POST request\n",
    "login_url = 'https://bulbapedia.bulbagarden.net/w/index.php?title=Special:UserLogin&returnto=MainPage'\n",
    "response = session.post(login_url, data=form_data)\n",
    "\n",
    "# Check for login success using redirects or other methods\n",
    "if response.url != login_url:\n",
    "    print(\"Login successful!\")\n",
    "else:\n",
    "    print(\"Login failed.\")\n",
    "\n",
    "# Print the response to help diagnose login issues\n",
    "# print(response.text)"
   ]
  },
  {
   "cell_type": "markdown",
   "metadata": {},
   "source": [
    "##### **Handling CSRF Tokens and Anti-Scraping Measures on Bulbapedia**\n",
    "\n",
    "Based on the error message and response, it seems that Bulbapedia may be using additional anti-scraping techniques or expecting certain tokens or headers that are not being sent.\n",
    "\n",
    "```\n",
    "mw.user.tokens.set({\"patrolToken\":\"...\", \"watchToken\":\"...\", \"csrfToken\":\"...\"});\n",
    "```\n",
    "It looks like CSRF tokens are being *dynamically* generated and are required for a successful login.\n",
    "\n",
    "The best thing to do is to use **Selenium** to Handle JavaScript-Generated Tokens\n"
   ]
  },
  {
   "cell_type": "markdown",
   "metadata": {},
   "source": [
    "#### Part 3: Scraping Data Behind a Login"
   ]
  },
  {
   "cell_type": "code",
   "execution_count": 26,
   "metadata": {},
   "outputs": [],
   "source": [
    "from selenium import webdriver\n",
    "from selenium.webdriver.common.by import By\n",
    "from selenium.webdriver.support.ui import WebDriverWait\n",
    "from selenium.webdriver.support import expected_conditions as EC\n",
    "import time\n"
   ]
  },
  {
   "cell_type": "code",
   "execution_count": 29,
   "metadata": {},
   "outputs": [],
   "source": [
    "# Setup WebDriver (Chrome in this case)\n",
    "driver = webdriver.Chrome()\n",
    "\n",
    "# Open the Bulbapedia login page\n",
    "login_url = 'https://bulbapedia.bulbagarden.net/w/index.php?title=Special:UserLogin&returnto=MainPage'\n",
    "driver.get(login_url)"
   ]
  },
  {
   "cell_type": "code",
   "execution_count": 30,
   "metadata": {},
   "outputs": [
    {
     "name": "stdout",
     "output_type": "stream",
     "text": [
      "Login successful!\n"
     ]
    }
   ],
   "source": [
    "# Wait for the username field to be present before interacting with it\n",
    "wait = WebDriverWait(driver, 20)\n",
    "\n",
    "try:\n",
    "    # Wait until the username field is visible\n",
    "    username_field = wait.until(EC.presence_of_element_located((By.ID, 'wpName1')))\n",
    "    password_field = wait.until(EC.presence_of_element_located((By.ID, 'wpPassword1')))\n",
    "\n",
    "    # Fill in the username and password fields\n",
    "    username_field.send_keys('placeholder')  # Replace 'placeholder' with actual username\n",
    "    password_field.send_keys('placeholder')  # Replace 'placeholder'with actual password\n",
    "\n",
    "    # Clicking the \"Log in\" button\n",
    "    login_button = wait.until(EC.presence_of_element_located((By.ID, 'wpLoginAttempt')))\n",
    "    login_button.click()\n",
    "\n",
    "    # Wait for a few seconds to ensure the login completes\n",
    "    time.sleep(5)\n",
    "\n",
    "    # Check if login is successful by looking for a specific element\n",
    "    if \"Log out\" in driver.page_source:\n",
    "        print(\"Login successful!\")\n",
    "    else:\n",
    "        print(\"Login failed. Please check your credentials.\")\n",
    "    \n",
    "except Exception as e:\n",
    "    print(f\"An error occurred: {e}\")"
   ]
  }
 ],
 "metadata": {
  "kernelspec": {
   "display_name": "Python 3",
   "language": "python",
   "name": "python3"
  },
  "language_info": {
   "codemirror_mode": {
    "name": "ipython",
    "version": 3
   },
   "file_extension": ".py",
   "mimetype": "text/x-python",
   "name": "python",
   "nbconvert_exporter": "python",
   "pygments_lexer": "ipython3",
   "version": "3.10.0"
  }
 },
 "nbformat": 4,
 "nbformat_minor": 2
}
