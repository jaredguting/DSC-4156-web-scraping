{
 "cells": [
  {
   "cell_type": "markdown",
   "metadata": {},
   "source": [
    "### Importing necessary libraries"
   ]
  },
  {
   "cell_type": "code",
   "execution_count": 1,
   "metadata": {},
   "outputs": [],
   "source": [
    "from selenium import webdriver\n",
    "from selenium.webdriver.common.by import By\n",
    "import csv"
   ]
  },
  {
   "cell_type": "markdown",
   "metadata": {},
   "source": [
    "### Getting the browser to open the url"
   ]
  },
  {
   "cell_type": "code",
   "execution_count": 2,
   "metadata": {},
   "outputs": [],
   "source": [
    "url = \"https://www.bbc.com/news\"\n",
    "driver = webdriver.Chrome()\n",
    "driver.get(url)"
   ]
  },
  {
   "cell_type": "markdown",
   "metadata": {},
   "source": [
    "### Extracting headlines from the dynamic webpage"
   ]
  },
  {
   "cell_type": "code",
   "execution_count": 3,
   "metadata": {},
   "outputs": [
    {
     "name": "stdout",
     "output_type": "stream",
     "text": [
      "Lebanese relief as Hezbollah and Israel seem to step back from brink\n",
      "\n",
      "\n",
      "At least 22 killed after having IDs checked in Pakistan\n",
      "China's most decorated swimmer back after drugs ban\n",
      "Lonely dolphin looking for mate blamed for attacks\n",
      "Matthew Perry's death reveals Hollywood's ketamine 'wild west'\n",
      "Who is Pavel Durov and what is Telegram?\n",
      "\n",
      "\n",
      "Why Gen Z & Millennials are hung up on answering the phone\n",
      "Stuck in one of the world's toughest jails - against judges' orders\n",
      "'In the midnight sun, slaloming through icebergs' - brothers on perilous Arctic voyage\n",
      "Watch: Dazzling parade at London's Notting Hill Carnival draws huge crowds\n",
      "\n",
      "\n",
      "Standoff as police close in on 'Son of God' pastor\n",
      "Qantas sells cut-price first-class fares by mistake\n",
      "British man killed in missile strike in Ukraine\n",
      "Former England manager Eriksson dies aged 76\n",
      "\n",
      "\n",
      "'Engaging and courteous with a touch of steel'\n",
      "Who could move before transfer window closes?\n",
      "'Ko's career highlight win banishes under-achiever tag'\n"
     ]
    }
   ],
   "source": [
    "headers = driver.find_elements(By.CLASS_NAME, \"sc-b8778340-0.kFuHJG\")\n",
    "\n",
    "for header in headers:\n",
    "    title = header.find_element(By.CLASS_NAME, \"sc-4fedabc7-3.zTZri\").text\n",
    "    print(title)"
   ]
  },
  {
   "cell_type": "markdown",
   "metadata": {},
   "source": [
    "### Exporting to CSV"
   ]
  },
  {
   "cell_type": "code",
   "execution_count": 4,
   "metadata": {},
   "outputs": [],
   "source": [
    "with open('headers.csv', 'w', newline='', encoding='utf-8') as csvfile:\n",
    "    writer = csv.writer(csvfile)\n",
    "    \n",
    "    # Writing a header row\n",
    "    writer.writerow(['Articles'])\n",
    "    \n",
    "    for header in headers:\n",
    "        title = header.find_element(By.CLASS_NAME, \"sc-4fedabc7-3.zTZri\").text\n",
    "        writer.writerow([title])"
   ]
  },
  {
   "cell_type": "code",
   "execution_count": null,
   "metadata": {},
   "outputs": [],
   "source": []
  }
 ],
 "metadata": {
  "kernelspec": {
   "display_name": "Python 3",
   "language": "python",
   "name": "python3"
  },
  "language_info": {
   "codemirror_mode": {
    "name": "ipython",
    "version": 3
   },
   "file_extension": ".py",
   "mimetype": "text/x-python",
   "name": "python",
   "nbconvert_exporter": "python",
   "pygments_lexer": "ipython3",
   "version": "3.10.0"
  }
 },
 "nbformat": 4,
 "nbformat_minor": 2
}
