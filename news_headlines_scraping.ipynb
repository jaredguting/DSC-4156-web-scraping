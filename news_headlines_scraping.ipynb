{
 "cells": [
  {
   "cell_type": "markdown",
   "metadata": {},
   "source": [
    "### Importing necessary libraries"
   ]
  },
  {
   "cell_type": "code",
   "execution_count": 1,
   "metadata": {},
   "outputs": [],
   "source": [
    "from selenium import webdriver\n",
    "from selenium.webdriver.common.by import By\n",
    "import csv"
   ]
  },
  {
   "cell_type": "markdown",
   "metadata": {},
   "source": [
    "### Getting the browser to open the url"
   ]
  },
  {
   "cell_type": "code",
   "execution_count": 2,
   "metadata": {},
   "outputs": [],
   "source": [
    "url = \"https://www.bbc.com/news\"\n",
    "driver = webdriver.Chrome()\n",
    "driver.get(url)"
   ]
  },
  {
   "cell_type": "markdown",
   "metadata": {},
   "source": [
    "### Extracting headlines from the dynamic webpage"
   ]
  },
  {
   "cell_type": "code",
   "execution_count": 3,
   "metadata": {},
   "outputs": [
    {
     "name": "stdout",
     "output_type": "stream",
     "text": [
      "Cars plunge into river as super typhoon destroys Vietnam bridge\n",
      "\n",
      "\n",
      "The hospital struggling to save its starving babies\n",
      "Google's lucrative ad tech business goes on trial\n",
      "US veteran makes 'incredible' progress after world's first eye transplant\n",
      "Why muted mics won’t help Trump or Harris at debate\n",
      "'Stick to policy': Voters want less drama in Harris-Trump debate\n",
      "\n",
      "\n",
      "‘I grieve for the person I was before' - Covid inquiry to begin new phase\n",
      "Jacqueline Wilson 'delighted to be viewed as gay icon' after coming out\n",
      "A beauty pageant turns ugly: The alleged plot to steal a queen’s crown\n",
      "Wild horses seen escaping wildfires in Nevada\n",
      "\n",
      "\n",
      "Russian 'spy whale' was not shot, say police\n",
      "Relaxed Murray surprised he does not miss playing\n",
      "Boeing offers staff 25% pay hike in bid to avoid strike\n",
      "\n",
      "Sinner savours US Open win after 'difficult' build-up\n",
      "Cowboys, Bears & Dolphins win on dramatic first NFL Sunday\n",
      "\n",
      "Brilliant Beaumont stars in record England victory\n"
     ]
    }
   ],
   "source": [
    "headers = driver.find_elements(By.CLASS_NAME, \"sc-b8778340-0.kFuHJG\")\n",
    "\n",
    "for header in headers:\n",
    "    title = header.find_element(By.CLASS_NAME, \"sc-4fedabc7-3.zTZri\").text\n",
    "    print(title)"
   ]
  },
  {
   "cell_type": "markdown",
   "metadata": {},
   "source": [
    "### Exporting to CSV"
   ]
  },
  {
   "cell_type": "code",
   "execution_count": 4,
   "metadata": {},
   "outputs": [],
   "source": [
    "with open('headers.csv', 'w', newline='', encoding='utf-8') as csvfile:\n",
    "    writer = csv.writer(csvfile)\n",
    "    \n",
    "    # Writing a header row\n",
    "    writer.writerow(['Articles'])\n",
    "    \n",
    "    for header in headers:\n",
    "        title = header.find_element(By.CLASS_NAME, \"sc-4fedabc7-3.zTZri\").text\n",
    "        writer.writerow([title])"
   ]
  }
 ],
 "metadata": {
  "kernelspec": {
   "display_name": "Python 3",
   "language": "python",
   "name": "python3"
  },
  "language_info": {
   "codemirror_mode": {
    "name": "ipython",
    "version": 3
   },
   "file_extension": ".py",
   "mimetype": "text/x-python",
   "name": "python",
   "nbconvert_exporter": "python",
   "pygments_lexer": "ipython3",
   "version": "3.10.0"
  }
 },
 "nbformat": 4,
 "nbformat_minor": 2
}
