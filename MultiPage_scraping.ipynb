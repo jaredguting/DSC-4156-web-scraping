{
 "cells": [
  {
   "cell_type": "markdown",
   "metadata": {},
   "source": [
    "## Scraping a Multipage Website"
   ]
  },
  {
   "cell_type": "code",
   "execution_count": 55,
   "metadata": {},
   "outputs": [],
   "source": [
    "# Import necessary libraries. If not use pip to install\n",
    "from bs4 import BeautifulSoup as bs\n",
    "import requests\n",
    "import csv"
   ]
  },
  {
   "cell_type": "markdown",
   "metadata": {},
   "source": [
    "### Getting the browser to open the url"
   ]
  },
  {
   "cell_type": "code",
   "execution_count": 56,
   "metadata": {},
   "outputs": [],
   "source": [
    "for i in range (1,30):\n",
    "    url = f\"http://books.toscrape.com/catalogue/page-{i}.html\"\n",
    "# Fetching HTML content\n",
    "r = requests.get(url)\n",
    "# Parsing data\n",
    "webpage = bs(r.text, 'html.parser')"
   ]
  },
  {
   "cell_type": "markdown",
   "metadata": {},
   "source": [
    "#### Extracting Necessary Fields"
   ]
  },
  {
   "cell_type": "code",
   "execution_count": 57,
   "metadata": {},
   "outputs": [
    {
     "name": "stdout",
     "output_type": "stream",
     "text": [
      "1. The Barefoot Contessa Cookbook\n",
      "2. Tell the Wolves I'm Home\n",
      "3. Ship Leaves Harbor: Essays on Travel by a Recovering Journeyman\n",
      "4. Pride and Prejudice\n",
      "5. Musicophilia: Tales of Music and the Brain\n",
      "6. Mere Christianity\n",
      "7. Me Before You (Me Before You #1)\n",
      "8. In the Woods (Dublin Murder Squad #1)\n",
      "9. In Cold Blood\n",
      "10. How to Stop Worrying and Start Living\n",
      "11. Give It Back\n",
      "12. Girl, Interrupted\n",
      "13. Fun Home: A Family Tragicomic\n",
      "14. Fruits Basket, Vol. 6 (Fruits Basket #6)\n",
      "15. Deception Point\n",
      "16. Death Note, Vol. 6: Give-and-Take (Death Note #6)\n",
      "17. Catherine the Great: Portrait of a Woman\n",
      "18. Better Homes and Gardens New Cook Book\n",
      "19. An Unquiet Mind: A Memoir of Moods and Madness\n",
      "20. A Year in Provence (Provence #1)\n"
     ]
    }
   ],
   "source": [
    "all_books = []\n",
    "book_element = webpage.find('ol')\n",
    "if book_element:\n",
    "# Getting the book titles\n",
    "        content = book_element.find_all('article', class_='product_pod')\n",
    "        for book in content:\n",
    "            title = book.h3.a['title']\n",
    "            all_books.append(title) \n",
    "for idx, title in enumerate(all_books, start=1):\n",
    "    print(f\"{idx}. {title}\")"
   ]
  },
  {
   "cell_type": "code",
   "execution_count": 58,
   "metadata": {},
   "outputs": [],
   "source": [
    "with open('book_titles.csv', mode='w', newline='', encoding='utf-8') as file:\n",
    "    writer = csv.writer(file)\n",
    "    writer.writerow([\"Index\", \"Title\"])  # Writing header row\n",
    "    for idx, title in enumerate(all_books, start=1):\n",
    "        writer.writerow([idx, title])  # Writing the book titles"
   ]
  },
  {
   "cell_type": "markdown",
   "metadata": {},
   "source": [
    "##### Getting the book titles"
   ]
  }
 ],
 "metadata": {
  "kernelspec": {
   "display_name": "Python 3",
   "language": "python",
   "name": "python3"
  },
  "language_info": {
   "codemirror_mode": {
    "name": "ipython",
    "version": 3
   },
   "file_extension": ".py",
   "mimetype": "text/x-python",
   "name": "python",
   "nbconvert_exporter": "python",
   "pygments_lexer": "ipython3",
   "version": "3.10.0"
  }
 },
 "nbformat": 4,
 "nbformat_minor": 2
}
