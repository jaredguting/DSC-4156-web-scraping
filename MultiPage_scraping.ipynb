{
 "cells": [
  {
   "cell_type": "markdown",
   "metadata": {},
   "source": [
    "## Scraping a Multipage Website"
   ]
  },
  {
   "cell_type": "code",
   "execution_count": 77,
   "metadata": {},
   "outputs": [],
   "source": [
    "# Import necessary libraries. If not use pip to install\n",
    "from bs4 import BeautifulSoup as bs\n",
    "import requests\n",
    "import csv"
   ]
  },
  {
   "cell_type": "markdown",
   "metadata": {},
   "source": [
    "### Getting the browser to open the url"
   ]
  },
  {
   "cell_type": "code",
   "execution_count": 78,
   "metadata": {},
   "outputs": [],
   "source": [
    "all_books = [] # List to store all book titles across pages\n",
    "for i in range (1,51):\n",
    "    url = f\"http://books.toscrape.com/catalogue/page-{i}.html\"\n",
    "# Fetching HTML content\n",
    "    r = requests.get(url)\n",
    "# Parsing data\n",
    "    webpage = bs(r.text, 'html.parser')\n",
    "    book_element = webpage.find('ol')\n",
    "    if book_element:\n",
    "# Getting the book titles\n",
    "        content = book_element.find_all('article', class_='product_pod')\n",
    "        for book in content:\n",
    "            title = book.h3.a['title']\n",
    "            price = book.find('p', class_='price_color').text\n",
    "            availability = book.find('p', class_='instock availability').text.strip()\n",
    "            all_books.append((title, price, availability))\n",
    "\n",
    "#   for idx, (title, price, availability) in enumerate(all_books, start=1):\n",
    "#        print(f\"{idx}. Title: {title}, Price: {price}, Availability: {availability}\")"
   ]
  },
  {
   "cell_type": "markdown",
   "metadata": {},
   "source": [
    "### Exporting to CSV File"
   ]
  },
  {
   "cell_type": "code",
   "execution_count": 82,
   "metadata": {},
   "outputs": [],
   "source": [
    "with open('book_details.csv', mode='w', newline='', encoding='utf-8-sig') as file:\n",
    "    writer = csv.writer(file)\n",
    "    writer.writerow([\"Title\", \"Price\", \"Availability\"])  # Writing header row\n",
    "    for idx, (title, price, availability) in enumerate(all_books, start=1):\n",
    "        writer.writerow([title, price, availability])  # Writing the book details"
   ]
  }
 ],
 "metadata": {
  "kernelspec": {
   "display_name": "Python 3",
   "language": "python",
   "name": "python3"
  },
  "language_info": {
   "codemirror_mode": {
    "name": "ipython",
    "version": 3
   },
   "file_extension": ".py",
   "mimetype": "text/x-python",
   "name": "python",
   "nbconvert_exporter": "python",
   "pygments_lexer": "ipython3",
   "version": "3.10.0"
  }
 },
 "nbformat": 4,
 "nbformat_minor": 2
}
