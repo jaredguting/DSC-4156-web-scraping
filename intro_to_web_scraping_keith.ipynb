{
 "cells": [
  {
   "cell_type": "markdown",
   "metadata": {},
   "source": [
    "# Loading the necessary libraries"
   ]
  },
  {
   "cell_type": "code",
   "execution_count": 6,
   "metadata": {},
   "outputs": [],
   "source": [
    "import requests\n",
    "from bs4 import BeautifulSoup as bs"
   ]
  },
  {
   "cell_type": "markdown",
   "metadata": {},
   "source": [
    "## Loading the first page"
   ]
  },
  {
   "cell_type": "code",
   "execution_count": 18,
   "metadata": {},
   "outputs": [
    {
     "name": "stdout",
     "output_type": "stream",
     "text": [
      "<html>\n",
      " <head>\n",
      "  <title>\n",
      "   HTML Example\n",
      "  </title>\n",
      " </head>\n",
      " <body>\n",
      "  <div align=\"middle\">\n",
      "   <h1>\n",
      "    HTML Webpage\n",
      "   </h1>\n",
      "   <p>\n",
      "    Link to more interesting example:\n",
      "    <a href=\"https://keithgalli.github.io/web-scraping/webpage.html\">\n",
      "     keithgalli.github.io/web-scraping/webpage.html\n",
      "    </a>\n",
      "   </p>\n",
      "  </div>\n",
      "  <h2>\n",
      "   A Header\n",
      "  </h2>\n",
      "  <p>\n",
      "   <i>\n",
      "    Some italicized text\n",
      "   </i>\n",
      "  </p>\n",
      "  <h2>\n",
      "   Another header\n",
      "  </h2>\n",
      "  <p id=\"paragraph-id\">\n",
      "   <b>\n",
      "    Some bold text\n",
      "   </b>\n",
      "  </p>\n",
      " </body>\n",
      "</html>\n",
      "\n"
     ]
    }
   ],
   "source": [
    "# Loading webpage content\n",
    "r = requests.get(\"https://keithgalli.github.io/web-scraping/example.html\")\n",
    "\n",
    "# Convert to a beautiful soup object\n",
    "soup = bs(r.content)\n",
    "\n",
    "# Printing html\n",
    "# print(soup.prettify())"
   ]
  },
  {
   "cell_type": "markdown",
   "metadata": {},
   "source": [
    "### Beautiful Soup to Scrape"
   ]
  },
  {
   "cell_type": "markdown",
   "metadata": {},
   "source": [
    "#### find and find_all"
   ]
  },
  {
   "cell_type": "code",
   "execution_count": 15,
   "metadata": {},
   "outputs": [
    {
     "name": "stdout",
     "output_type": "stream",
     "text": [
      "The first header is <h2>A Header</h2>\n",
      "The headers are [<h2>A Header</h2>, <h2>Another header</h2>]\n"
     ]
    }
   ],
   "source": [
    "first_header = soup.find(\"h2\")\n",
    "print(\"The first header is \" + str(first_header))\n",
    "headers = soup.find_all(\"h2\")\n",
    "print(\"The headers are \" + str(headers))"
   ]
  },
  {
   "cell_type": "code",
   "execution_count": 35,
   "metadata": {},
   "outputs": [
    {
     "name": "stdout",
     "output_type": "stream",
     "text": [
      "I found <h1>HTML Webpage</h1> first.\n",
      "I found <h1>HTML Webpage</h1> first.\n",
      "\n",
      "The headers are [<h1>HTML Webpage</h1>, <h2>A Header</h2>, <h2>Another header</h2>].\n"
     ]
    }
   ],
   "source": [
    "# Passing a list of elements to look for - first occurence\n",
    "first_header = soup.find([\"h1\", \"h2\"])\n",
    "print(\"I found \" + str(first_header) + \" first.\")\n",
    "first_header = soup.find([\"h2\", \"h1\"])\n",
    "print(\"I found \" + str(first_header) + \" first.\\n\")\n",
    "\n",
    "# All occurences\n",
    "headers = soup.find_all([\"h1\", \"h2\"])\n",
    "print(\"The headers are \" + str(headers) + \".\")"
   ]
  },
  {
   "cell_type": "code",
   "execution_count": 44,
   "metadata": {},
   "outputs": [
    {
     "name": "stdout",
     "output_type": "stream",
     "text": [
      "This is an example of an element without a paragraph [<p>Link to more interesting example: <a href=\"https://keithgalli.github.io/web-scraping/webpage.html\">keithgalli.github.io/web-scraping/webpage.html</a></p>, <p><i>Some italicized text</i></p>, <p id=\"paragraph-id\"><b>Some bold text</b></p>]\n",
      "\n",
      "I got the specific attribute which is [<p id=\"paragraph-id\"><b>Some bold text</b></p>]\n"
     ]
    }
   ],
   "source": [
    "# Pass in attributes to the find and find all function\n",
    "paragraph = soup.find_all(\"p\")\n",
    "print(\"This is an example of an element without a paragraph \" + str(paragraph))\n",
    "\n",
    "paragraph = soup.find_all(\"p\", attrs={\"id\": \"paragraph-id\"})\n",
    "print(\"\\nI got the specific attribute which is \" + str(paragraph))"
   ]
  },
  {
   "cell_type": "code",
   "execution_count": 49,
   "metadata": {},
   "outputs": [
    {
     "name": "stdout",
     "output_type": "stream",
     "text": [
      "<h1>\n",
      " HTML Webpage\n",
      "</h1>\n",
      "\n"
     ]
    }
   ],
   "source": [
    "# Nesting find and find_all calls\n",
    "body = soup.find(\"body\")\n",
    "div = body.find(\"div\")\n",
    "header = div.find(\"h1\")\n",
    "print(header.prettify())"
   ]
  },
  {
   "cell_type": "code",
   "execution_count": 69,
   "metadata": {},
   "outputs": [
    {
     "name": "stdout",
     "output_type": "stream",
     "text": [
      "[<p><i>Some italicized text</i></p>, <p id=\"paragraph-id\"><b>Some bold text</b></p>]\n",
      "[<h2>A Header</h2>, <h2>Another header</h2>]\n"
     ]
    }
   ],
   "source": [
    "# Searching fr specific strings in find or find_all calls\n",
    "# Using the regex library\n",
    "import re\n",
    "\n",
    "paragraphs = soup.find_all(\"p\", string=re.compile(\"Some\"))\n",
    "print(paragraphs)\n",
    "\n",
    "headers = soup.find_all(\"h2\", string=re.compile(\"(H|h)eader\"))\n",
    "print(headers)"
   ]
  },
  {
   "cell_type": "markdown",
   "metadata": {},
   "source": [
    "### select(CSS selector)\n",
    "Beautiful Soup can mimic a CSS selector"
   ]
  },
  {
   "cell_type": "code",
   "execution_count": 70,
   "metadata": {},
   "outputs": [
    {
     "name": "stdout",
     "output_type": "stream",
     "text": [
      "<body>\n",
      " <div align=\"middle\">\n",
      "  <h1>\n",
      "   HTML Webpage\n",
      "  </h1>\n",
      "  <p>\n",
      "   Link to more interesting example:\n",
      "   <a href=\"https://keithgalli.github.io/web-scraping/webpage.html\">\n",
      "    keithgalli.github.io/web-scraping/webpage.html\n",
      "   </a>\n",
      "  </p>\n",
      " </div>\n",
      " <h2>\n",
      "  A Header\n",
      " </h2>\n",
      " <p>\n",
      "  <i>\n",
      "   Some italicized text\n",
      "  </i>\n",
      " </p>\n",
      " <h2>\n",
      "  Another header\n",
      " </h2>\n",
      " <p id=\"paragraph-id\">\n",
      "  <b>\n",
      "   Some bold text\n",
      "  </b>\n",
      " </p>\n",
      "</body>\n",
      "\n"
     ]
    }
   ],
   "source": [
    "print(soup.body.prettify())"
   ]
  },
  {
   "cell_type": "code",
   "execution_count": 71,
   "metadata": {},
   "outputs": [
    {
     "data": {
      "text/plain": [
       "[<p>Link to more interesting example: <a href=\"https://keithgalli.github.io/web-scraping/webpage.html\">keithgalli.github.io/web-scraping/webpage.html</a></p>]"
      ]
     },
     "execution_count": 71,
     "metadata": {},
     "output_type": "execute_result"
    }
   ],
   "source": [
    "# getting paragraph inside of divs\n",
    "content = soup.select(\"div p\")\n",
    "content"
   ]
  },
  {
   "cell_type": "code",
   "execution_count": 72,
   "metadata": {},
   "outputs": [
    {
     "data": {
      "text/plain": [
       "[<p id=\"paragraph-id\"><b>Some bold text</b></p>]"
      ]
     },
     "execution_count": 72,
     "metadata": {},
     "output_type": "execute_result"
    }
   ],
   "source": [
    "# getting all paragraphs that is directly after h2\n",
    "paragraphs = soup.select(\"h2 ~ p\")\n",
    "paragraph"
   ]
  },
  {
   "cell_type": "code",
   "execution_count": 73,
   "metadata": {},
   "outputs": [
    {
     "data": {
      "text/plain": [
       "[<b>Some bold text</b>]"
      ]
     },
     "execution_count": 73,
     "metadata": {},
     "output_type": "execute_result"
    }
   ],
   "source": [
    "# getting element in a certain format\n",
    "bold_text = soup.select(\"p#paragraph-id b\")\n",
    "bold_text"
   ]
  },
  {
   "cell_type": "code",
   "execution_count": 76,
   "metadata": {},
   "outputs": [
    {
     "name": "stdout",
     "output_type": "stream",
     "text": [
      "[<p><i>Some italicized text</i></p>, <p id=\"paragraph-id\"><b>Some bold text</b></p>]\n",
      "[<i>Some italicized text</i>]\n",
      "[]\n"
     ]
    }
   ],
   "source": [
    "# Running nested calls\n",
    "paragraphs = soup.select(\"body > p\") # directed descendant of the body\n",
    "print(paragraphs)\n",
    "\n",
    "for paragraph in paragraphs:\n",
    "    print(paragraph.select(\"i\"))"
   ]
  },
  {
   "cell_type": "markdown",
   "metadata": {},
   "source": [
    "### Getting different properties if the HTML"
   ]
  },
  {
   "cell_type": "code",
   "execution_count": 79,
   "metadata": {},
   "outputs": [
    {
     "name": "stdout",
     "output_type": "stream",
     "text": [
      "<h2>A Header</h2>\n",
      "A Header\n"
     ]
    }
   ],
   "source": [
    "header = soup.find(\"h2\")\n",
    "print(header) # text with tags\n",
    "print(header.string) # text only"
   ]
  },
  {
   "cell_type": "code",
   "execution_count": 81,
   "metadata": {},
   "outputs": [
    {
     "name": "stdout",
     "output_type": "stream",
     "text": [
      "<div align=\"middle\">\n",
      " <h1>\n",
      "  HTML Webpage\n",
      " </h1>\n",
      " <p>\n",
      "  Link to more interesting example:\n",
      "  <a href=\"https://keithgalli.github.io/web-scraping/webpage.html\">\n",
      "   keithgalli.github.io/web-scraping/webpage.html\n",
      "  </a>\n",
      " </p>\n",
      "</div>\n",
      "\n",
      "None\n"
     ]
    }
   ],
   "source": [
    "div = soup.find(\"div\")\n",
    "print(div.prettify())\n",
    "print(div.string)\n",
    "\n",
    "# This will return a 'none' result because the script doesn't know which child element\n",
    "# in the parent element to get the string from."
   ]
  },
  {
   "cell_type": "code",
   "execution_count": 83,
   "metadata": {},
   "outputs": [
    {
     "name": "stdout",
     "output_type": "stream",
     "text": [
      "<div align=\"middle\">\n",
      " <h1>\n",
      "  HTML Webpage\n",
      " </h1>\n",
      " <p>\n",
      "  Link to more interesting example:\n",
      "  <a href=\"https://keithgalli.github.io/web-scraping/webpage.html\">\n",
      "   keithgalli.github.io/web-scraping/webpage.html\n",
      "  </a>\n",
      " </p>\n",
      "</div>\n",
      "\n",
      "\n",
      "HTML Webpage\n",
      "Link to more interesting example: keithgalli.github.io/web-scraping/webpage.html\n",
      "\n"
     ]
    }
   ],
   "source": [
    "# In order to extract all the child element texts from the tags\n",
    "div = soup.find(\"div\")\n",
    "print(div.prettify())\n",
    "print(div.get_text())"
   ]
  },
  {
   "cell_type": "markdown",
   "metadata": {},
   "source": [
    "### Getting a specific property from an element"
   ]
  },
  {
   "cell_type": "code",
   "execution_count": 85,
   "metadata": {},
   "outputs": [
    {
     "data": {
      "text/plain": [
       "'https://keithgalli.github.io/web-scraping/webpage.html'"
      ]
     },
     "execution_count": 85,
     "metadata": {},
     "output_type": "execute_result"
    }
   ],
   "source": [
    "# For links\n",
    "link = soup.find(\"a\")\n",
    "link[\"href\"]"
   ]
  },
  {
   "cell_type": "code",
   "execution_count": 86,
   "metadata": {},
   "outputs": [
    {
     "data": {
      "text/plain": [
       "'paragraph-id'"
      ]
     },
     "execution_count": 86,
     "metadata": {},
     "output_type": "execute_result"
    }
   ],
   "source": [
    "# for elements\n",
    "paragraphs = soup.select(\"p#paragraph-id\")\n",
    "paragraphs[0][\"id\"]"
   ]
  },
  {
   "cell_type": "markdown",
   "metadata": {},
   "source": [
    "## Code Navigation"
   ]
  },
  {
   "cell_type": "code",
   "execution_count": 88,
   "metadata": {},
   "outputs": [
    {
     "name": "stdout",
     "output_type": "stream",
     "text": [
      "<body>\n",
      " <div align=\"middle\">\n",
      "  <h1>\n",
      "   HTML Webpage\n",
      "  </h1>\n",
      "  <p>\n",
      "   Link to more interesting example:\n",
      "   <a href=\"https://keithgalli.github.io/web-scraping/webpage.html\">\n",
      "    keithgalli.github.io/web-scraping/webpage.html\n",
      "   </a>\n",
      "  </p>\n",
      " </div>\n",
      " <h2>\n",
      "  A Header\n",
      " </h2>\n",
      " <p>\n",
      "  <i>\n",
      "   Some italicized text\n",
      "  </i>\n",
      " </p>\n",
      " <h2>\n",
      "  Another header\n",
      " </h2>\n",
      " <p id=\"paragraph-id\">\n",
      "  <b>\n",
      "   Some bold text\n",
      "  </b>\n",
      " </p>\n",
      "</body>\n",
      "\n"
     ]
    }
   ],
   "source": [
    "print(soup.body.prettify())"
   ]
  },
  {
   "cell_type": "code",
   "execution_count": 87,
   "metadata": {},
   "outputs": [
    {
     "data": {
      "text/plain": [
       "<h1>HTML Webpage</h1>"
      ]
     },
     "execution_count": 87,
     "metadata": {},
     "output_type": "execute_result"
    }
   ],
   "source": [
    "# Path Syntax\n",
    "soup.body.div.h1"
   ]
  },
  {
   "cell_type": "markdown",
   "metadata": {},
   "source": [
    "#### Knowing the terms: Parent, Sibling, and Child"
   ]
  },
  {
   "cell_type": "code",
   "execution_count": 90,
   "metadata": {},
   "outputs": [
    {
     "data": {
      "text/plain": [
       "[<h2>A Header</h2>,\n",
       " <p><i>Some italicized text</i></p>,\n",
       " <h2>Another header</h2>,\n",
       " <p id=\"paragraph-id\"><b>Some bold text</b></p>]"
      ]
     },
     "execution_count": 90,
     "metadata": {},
     "output_type": "execute_result"
    }
   ],
   "source": [
    "soup.body.find(\"div\").find_next_siblings()"
   ]
  }
 ],
 "metadata": {
  "kernelspec": {
   "display_name": "Python 3",
   "language": "python",
   "name": "python3"
  },
  "language_info": {
   "codemirror_mode": {
    "name": "ipython",
    "version": 3
   },
   "file_extension": ".py",
   "mimetype": "text/x-python",
   "name": "python",
   "nbconvert_exporter": "python",
   "pygments_lexer": "ipython3",
   "version": "3.10.0"
  }
 },
 "nbformat": 4,
 "nbformat_minor": 2
}
